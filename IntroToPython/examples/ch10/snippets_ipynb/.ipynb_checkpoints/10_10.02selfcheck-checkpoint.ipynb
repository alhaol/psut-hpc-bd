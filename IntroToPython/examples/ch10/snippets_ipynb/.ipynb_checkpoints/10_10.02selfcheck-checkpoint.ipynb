{
 "cells": [
  {
   "cell_type": "markdown",
   "metadata": {},
   "source": [
    "![Self Check Exercises check mark image](files/art/check.png)\n",
    "# 10.10.2 Self Check"
   ]
  },
  {
   "cell_type": "markdown",
   "metadata": {},
   "source": [
    "**1. _(Fill-In)_** Suppose `a` and `b` are integer variables and a program calculates `a + b`. Now suppose `c` and `d` are string variables and a program performs the concatenation `c + d`. The two `+` operators here are clearly being used for different purposes. This is an example of `________`.\n",
    "\n",
    "**Answer:** operator overloading. \n",
    "\n",
    "**2. _(True/False)_** Python allows you to create new operators to overload and to change how existing operators work for built-in types.\n",
    "\n",
    "**Answer:** False. Python prohibits you from creating new operators, and operator overloading cannot change how an operator works with built-in types.\n",
    "\n",
    "**3. _(IPython Session)_** Modify class `Complex` to support operators `-` and `-=`, then test these operators.\n",
    "\n",
    "**Answer:** The new method definitions are:\n",
    "```python\n",
    "def __sub__(self, right):\n",
    "    \"\"\"Overrides the - operator.\"\"\"\n",
    "    return Complex(self.real - right.real, \n",
    "                   self.imaginary - right.imaginary)\n",
    "\n",
    "def __isub__(self, right):\n",
    "    \"\"\"Overrides the -= operator.\"\"\"\n",
    "    self.real -= right.real\n",
    "    self.imaginary -= right.imaginary\n",
    "    return self\n",
    "```"
   ]
  },
  {
   "cell_type": "code",
   "execution_count": null,
   "metadata": {},
   "outputs": [],
   "source": [
    "from complexnumber2 import Complex"
   ]
  },
  {
   "cell_type": "code",
   "execution_count": null,
   "metadata": {},
   "outputs": [],
   "source": [
    "x = Complex(real=2, imaginary=4)"
   ]
  },
  {
   "cell_type": "code",
   "execution_count": null,
   "metadata": {},
   "outputs": [],
   "source": [
    "y = Complex(real=5, imaginary=-1)"
   ]
  },
  {
   "cell_type": "code",
   "execution_count": null,
   "metadata": {},
   "outputs": [],
   "source": [
    "x - y"
   ]
  },
  {
   "cell_type": "code",
   "execution_count": null,
   "metadata": {},
   "outputs": [],
   "source": [
    "x -= y"
   ]
  },
  {
   "cell_type": "code",
   "execution_count": null,
   "metadata": {},
   "outputs": [],
   "source": [
    "x"
   ]
  },
  {
   "cell_type": "code",
   "execution_count": null,
   "metadata": {},
   "outputs": [],
   "source": [
    "y"
   ]
  },
  {
   "cell_type": "code",
   "execution_count": null,
   "metadata": {},
   "outputs": [],
   "source": [
    "##########################################################################\n",
    "# (C) Copyright 2019 by Deitel & Associates, Inc. and                    #\n",
    "# Pearson Education, Inc. All Rights Reserved.                           #\n",
    "#                                                                        #\n",
    "# DISCLAIMER: The authors and publisher of this book have used their     #\n",
    "# best efforts in preparing the book. These efforts include the          #\n",
    "# development, research, and testing of the theories and programs        #\n",
    "# to determine their effectiveness. The authors and publisher make       #\n",
    "# no warranty of any kind, expressed or implied, with regard to these    #\n",
    "# programs or to the documentation contained in these books. The authors #\n",
    "# and publisher shall not be liable in any event for incidental or       #\n",
    "# consequential damages in connection with, or arising out of, the       #\n",
    "# furnishing, performance, or use of these programs.                     #\n",
    "##########################################################################\n"
   ]
  }
 ],
 "metadata": {
  "kernelspec": {
   "display_name": "Python 3",
   "language": "python",
   "name": "python3"
  },
  "language_info": {
   "codemirror_mode": {
    "name": "ipython",
    "version": 3
   },
   "file_extension": ".py",
   "mimetype": "text/x-python",
   "name": "python",
   "nbconvert_exporter": "python",
   "pygments_lexer": "ipython3",
   "version": "3.7.0"
  }
 },
 "nbformat": 4,
 "nbformat_minor": 2
}
