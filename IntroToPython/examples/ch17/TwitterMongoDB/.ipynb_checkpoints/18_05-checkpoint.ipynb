{
 "cells": [
  {
   "cell_type": "markdown",
   "metadata": {},
   "source": [
    "# 18.5 Case Study: A MongoDB JSON Document Database\n",
    "### Installing the Python Libraries Required for Interacting with MongoDB\n",
    "### keys.py \n",
    "## 18.5.1 Creating the MongoDB Atlas Cluster\n",
    "### Creating Your First Database User\n",
    "### Whitelist Your IP Address\n",
    "### Connect to Your Cluster\n",
    "## 18.5.2 Streaming Tweets into MongoDB\n",
    "### Use Tweepy to Authenticate with Twitter"
   ]
  },
  {
   "cell_type": "code",
   "execution_count": null,
   "metadata": {},
   "outputs": [],
   "source": [
    "import tweepy, keys"
   ]
  },
  {
   "cell_type": "code",
   "execution_count": null,
   "metadata": {},
   "outputs": [],
   "source": [
    "auth = tweepy.OAuthHandler(\n",
    "    keys.consumer_key, keys.consumer_secret)\n",
    "auth.set_access_token(keys.access_token, \n",
    "    keys.access_token_secret)"
   ]
  },
  {
   "cell_type": "code",
   "execution_count": null,
   "metadata": {},
   "outputs": [],
   "source": [
    "api = tweepy.API(auth, wait_on_rate_limit=True, \n",
    "                 wait_on_rate_limit_notify=True)               "
   ]
  },
  {
   "cell_type": "markdown",
   "metadata": {},
   "source": [
    "### Loading the Senators’ Data"
   ]
  },
  {
   "cell_type": "code",
   "execution_count": null,
   "metadata": {},
   "outputs": [],
   "source": [
    "import pandas as pd"
   ]
  },
  {
   "cell_type": "code",
   "execution_count": null,
   "metadata": {},
   "outputs": [],
   "source": [
    "senators_df = pd.read_csv('senators.csv')"
   ]
  },
  {
   "cell_type": "code",
   "execution_count": null,
   "metadata": {},
   "outputs": [],
   "source": [
    "senators_df['TwitterID'] = senators_df['TwitterID'].astype(str)"
   ]
  },
  {
   "cell_type": "code",
   "execution_count": null,
   "metadata": {},
   "outputs": [],
   "source": [
    "pd.options.display.max_columns = 6"
   ]
  },
  {
   "cell_type": "code",
   "execution_count": null,
   "metadata": {},
   "outputs": [],
   "source": [
    "senators_df.head()"
   ]
  },
  {
   "cell_type": "markdown",
   "metadata": {},
   "source": [
    "### Configuring the MongoClient "
   ]
  },
  {
   "cell_type": "code",
   "execution_count": null,
   "metadata": {},
   "outputs": [],
   "source": [
    "from pymongo import MongoClient"
   ]
  },
  {
   "cell_type": "code",
   "execution_count": null,
   "metadata": {},
   "outputs": [],
   "source": [
    "atlas_client = MongoClient(keys.mongo_connection_string)"
   ]
  },
  {
   "cell_type": "code",
   "execution_count": null,
   "metadata": {},
   "outputs": [],
   "source": [
    "db = atlas_client.senators "
   ]
  },
  {
   "cell_type": "markdown",
   "metadata": {},
   "source": [
    "### Setting up Tweet Stream"
   ]
  },
  {
   "cell_type": "code",
   "execution_count": null,
   "metadata": {},
   "outputs": [],
   "source": [
    "from tweetlistener import TweetListener"
   ]
  },
  {
   "cell_type": "code",
   "execution_count": null,
   "metadata": {},
   "outputs": [],
   "source": [
    "tweet_limit = 10000"
   ]
  },
  {
   "cell_type": "code",
   "execution_count": null,
   "metadata": {},
   "outputs": [],
   "source": [
    "twitter_stream = tweepy.Stream(api.auth, \n",
    "    TweetListener(api, db, tweet_limit))"
   ]
  },
  {
   "cell_type": "markdown",
   "metadata": {},
   "source": [
    "### Starting the Tweet Stream"
   ]
  },
  {
   "cell_type": "code",
   "execution_count": null,
   "metadata": {},
   "outputs": [],
   "source": [
    "twitter_stream.filter(track=senators_df.TwitterHandle.tolist(),\n",
    "    follow=senators_df.TwitterID.tolist())"
   ]
  },
  {
   "cell_type": "markdown",
   "metadata": {},
   "source": [
    "### Class TweetListener"
   ]
  },
  {
   "cell_type": "markdown",
   "metadata": {},
   "source": [
    "```python\n",
    "# tweetlistener.py\n",
    "\"\"\"TweetListener downloads tweets and stores them in MongoDB.\"\"\"\n",
    "import json\n",
    "import tweepy\n",
    "\n",
    "class TweetListener(tweepy.StreamListener):\n",
    "    \"\"\"Handles incoming Tweet stream.\"\"\"\n",
    "\n",
    "    def __init__(self, api, database, limit=10000):\n",
    "        \"\"\"Create instance variables for tracking number of tweets.\"\"\"\n",
    "        self.db = database\n",
    "        self.tweet_count = 0\n",
    "        self.TWEET_LIMIT = limit  # 10,000 by default\n",
    "        super().__init__(api)  # call superclass's init\n",
    "\n",
    "    def on_connect(self):\n",
    "        \"\"\"Called when your connection attempt is successful, enabling \n",
    "        you to perform appropriate application tasks at that point.\"\"\"\n",
    "        print('Successfully connected to Twitter\\n')\n",
    "\n",
    "    def on_data(self, data):\n",
    "        \"\"\"Called when Twitter pushes a new tweet to you.\"\"\"\n",
    "        self.tweet_count += 1  # track number of tweets processed\n",
    "        json_data = json.loads(data)  # convert string to JSON\n",
    "        self.db.tweets.insert_one(json_data)  # store in tweets collection\n",
    "        print(f'    Screen name: {json_data[\"user\"][\"name\"]}') \n",
    "        print(f'     Created at: {json_data[\"created_at\"]}')         \n",
    "        print(f'Tweets received: {self.tweet_count}')         \n",
    "\n",
    "        # if TWEET_LIMIT is reached, return False to terminate streaming\n",
    "        return self.tweet_count != self.TWEET_LIMIT\n",
    "    \n",
    "    def on_error(self, status):\n",
    "        print(status)\n",
    "        return True\n",
    "```"
   ]
  },
  {
   "cell_type": "markdown",
   "metadata": {},
   "source": [
    "### Counting Tweets for Each Senator"
   ]
  },
  {
   "cell_type": "code",
   "execution_count": null,
   "metadata": {},
   "outputs": [],
   "source": [
    "db.tweets.create_index([('$**', 'text')])"
   ]
  },
  {
   "cell_type": "code",
   "execution_count": null,
   "metadata": {},
   "outputs": [],
   "source": [
    "tweet_counts = []"
   ]
  },
  {
   "cell_type": "code",
   "execution_count": null,
   "metadata": {},
   "outputs": [],
   "source": [
    "for senator in senators_df.TwitterHandle:\n",
    "    tweet_counts.append(db.tweets.count_documents(\n",
    "        {\"$text\": {\"$search\": senator}}))"
   ]
  },
  {
   "cell_type": "markdown",
   "metadata": {},
   "source": [
    "### Show Tweet Counts for Each Senator "
   ]
  },
  {
   "cell_type": "code",
   "execution_count": null,
   "metadata": {},
   "outputs": [],
   "source": [
    "tweet_counts_df = senators_df.assign(Tweets=tweet_counts)"
   ]
  },
  {
   "cell_type": "code",
   "execution_count": null,
   "metadata": {},
   "outputs": [],
   "source": [
    "tweet_counts_df.sort_values(by='Tweets', \n",
    "    ascending=False).head(10)"
   ]
  },
  {
   "cell_type": "markdown",
   "metadata": {},
   "source": [
    "### Get the State Locations for Plotting Markers "
   ]
  },
  {
   "cell_type": "code",
   "execution_count": null,
   "metadata": {},
   "outputs": [],
   "source": [
    "from geopy import OpenMapQuest"
   ]
  },
  {
   "cell_type": "code",
   "execution_count": null,
   "metadata": {},
   "outputs": [],
   "source": [
    "import time"
   ]
  },
  {
   "cell_type": "code",
   "execution_count": null,
   "metadata": {},
   "outputs": [],
   "source": [
    "from state_codes import state_codes"
   ]
  },
  {
   "cell_type": "code",
   "execution_count": null,
   "metadata": {},
   "outputs": [],
   "source": [
    "geo = OpenMapQuest(api_key=keys.mapquest_key) "
   ]
  },
  {
   "cell_type": "code",
   "execution_count": null,
   "metadata": {},
   "outputs": [],
   "source": [
    "states = tweet_counts_df.State.unique()"
   ]
  },
  {
   "cell_type": "code",
   "execution_count": null,
   "metadata": {},
   "outputs": [],
   "source": [
    "states.sort()"
   ]
  },
  {
   "cell_type": "code",
   "execution_count": null,
   "metadata": {},
   "outputs": [],
   "source": [
    "locations = []"
   ]
  },
  {
   "cell_type": "code",
   "execution_count": null,
   "metadata": {},
   "outputs": [],
   "source": [
    "for state in states:\n",
    "    processed = False\n",
    "    delay = .1 \n",
    "    while not processed:\n",
    "        try:\n",
    "            locations.append(\n",
    "                geo.geocode(state_codes[state] + ', USA'))\n",
    "            print(locations[-1])  \n",
    "            processed = True\n",
    "        except:  # timed out, so wait before trying again\n",
    "            print('OpenMapQuest service timed out. Waiting.')\n",
    "            time.sleep(delay)\n",
    "            delay += .1"
   ]
  },
  {
   "cell_type": "markdown",
   "metadata": {},
   "source": [
    "### Grouping the Tweet Counts by State "
   ]
  },
  {
   "cell_type": "code",
   "execution_count": null,
   "metadata": {},
   "outputs": [],
   "source": [
    "tweets_counts_by_state = tweet_counts_df.groupby(\n",
    "    'State', as_index=False).sum()"
   ]
  },
  {
   "cell_type": "code",
   "execution_count": null,
   "metadata": {},
   "outputs": [],
   "source": [
    "tweets_counts_by_state.head()"
   ]
  },
  {
   "cell_type": "markdown",
   "metadata": {},
   "source": [
    "### Creating the Map "
   ]
  },
  {
   "cell_type": "code",
   "execution_count": null,
   "metadata": {},
   "outputs": [],
   "source": [
    "import folium"
   ]
  },
  {
   "cell_type": "code",
   "execution_count": null,
   "metadata": {},
   "outputs": [],
   "source": [
    "usmap = folium.Map(location=[39.8283, -98.5795], \n",
    "                   zoom_start=4, detect_retina=True,\n",
    "                   tiles='Stamen Toner')"
   ]
  },
  {
   "cell_type": "markdown",
   "metadata": {},
   "source": [
    "### Creating a Choropleth to Color the Map "
   ]
  },
  {
   "cell_type": "code",
   "execution_count": null,
   "metadata": {},
   "outputs": [],
   "source": [
    " choropleth = folium.Choropleth(\n",
    "    geo_data='us-states.json',\n",
    "    name='choropleth',\n",
    "    data=tweets_counts_by_state,\n",
    "    columns=['State', 'Tweets'],\n",
    "    key_on='feature.id',\n",
    "    fill_color='YlOrRd',\n",
    "    fill_opacity=0.7,\n",
    "    line_opacity=0.2,\n",
    "    legend_name='Tweets by State'\n",
    ").add_to(usmap)"
   ]
  },
  {
   "cell_type": "code",
   "execution_count": null,
   "metadata": {},
   "outputs": [],
   "source": [
    "layer = folium.LayerControl().add_to(usmap)"
   ]
  },
  {
   "cell_type": "markdown",
   "metadata": {},
   "source": [
    "### Creating the Map Markers for Each State "
   ]
  },
  {
   "cell_type": "code",
   "execution_count": null,
   "metadata": {},
   "outputs": [],
   "source": [
    "sorted_df = tweet_counts_df.sort_values(\n",
    "    by='Tweets', ascending=False)"
   ]
  },
  {
   "cell_type": "code",
   "execution_count": null,
   "metadata": {},
   "outputs": [],
   "source": [
    "for index, (name, group) in enumerate(sorted_df.groupby('State')):\n",
    "    strings = [state_codes[name]]  # used to assemble popup text\n",
    "\n",
    "    for s in group.itertuples():\n",
    "        strings.append(\n",
    "            f'{s.Name} ({s.Party}); Tweets: {s.Tweets}')\n",
    "        \n",
    "    text = '<br>'.join(strings)  \n",
    "    marker = folium.Marker(\n",
    "        (locations[index].latitude, locations[index].longitude), \n",
    "        popup=text)\n",
    "    marker.add_to(usmap) "
   ]
  },
  {
   "cell_type": "markdown",
   "metadata": {},
   "source": [
    "### Displaying the Map "
   ]
  },
  {
   "cell_type": "code",
   "execution_count": null,
   "metadata": {},
   "outputs": [],
   "source": [
    "usmap # in a notebook, this will display the map without the need to save it to a file "
   ]
  },
  {
   "cell_type": "markdown",
   "metadata": {},
   "source": [
    "If the preceding snippet does not display the map for you, uncomment the following snippet and execute it to save the HTML file to disk as we do in the chapter. You can then open that HTML file in your browser."
   ]
  },
  {
   "cell_type": "code",
   "execution_count": null,
   "metadata": {},
   "outputs": [],
   "source": [
    "# usmap.save('SenatorsTweets.html')"
   ]
  },
  {
   "cell_type": "code",
   "execution_count": null,
   "metadata": {},
   "outputs": [],
   "source": [
    "##########################################################################\n",
    "# (C) Copyright 2019 by Deitel & Associates, Inc. and                    #\n",
    "# Pearson Education, Inc. All Rights Reserved.                           #\n",
    "#                                                                        #\n",
    "# DISCLAIMER: The authors and publisher of this book have used their     #\n",
    "# best efforts in preparing the book. These efforts include the          #\n",
    "# development, research, and testing of the theories and programs        #\n",
    "# to determine their effectiveness. The authors and publisher make       #\n",
    "# no warranty of any kind, expressed or implied, with regard to these    #\n",
    "# programs or to the documentation contained in these books. The authors #\n",
    "# and publisher shall not be liable in any event for incidental or       #\n",
    "# consequential damages in connection with, or arising out of, the       #\n",
    "# furnishing, performance, or use of these programs.                     #\n",
    "##########################################################################"
   ]
  }
 ],
 "metadata": {
  "kernelspec": {
   "display_name": "Python 3",
   "language": "python",
   "name": "python3"
  },
  "language_info": {
   "codemirror_mode": {
    "name": "ipython",
    "version": 3
   },
   "file_extension": ".py",
   "mimetype": "text/x-python",
   "name": "python",
   "nbconvert_exporter": "python",
   "pygments_lexer": "ipython3",
   "version": "3.6.7"
  }
 },
 "nbformat": 4,
 "nbformat_minor": 2
}
