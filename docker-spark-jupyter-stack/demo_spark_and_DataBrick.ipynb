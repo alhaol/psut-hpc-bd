{
 "cells": [
  {
   "cell_type": "code",
   "execution_count": null,
   "id": "5b9e5cab",
   "metadata": {},
   "outputs": [],
   "source": []
  },
  {
   "cell_type": "markdown",
   "id": "f8e8a0be",
   "metadata": {},
   "source": [
    "## Spark with Docker \n",
    "\n",
    "> Run the follwoing Docker container \n",
    "\n",
    "```bash\n",
    "\n",
    "docker run -p 8888:8888 -p 4040:4040 -it --user root -v c://Users/Ibrahim:/home/jovyan/work jupyter/pyspark-notebook start.sh jupyter lab\n",
    "\n",
    "```"
   ]
  },
  {
   "cell_type": "markdown",
   "id": "e285f9d9",
   "metadata": {},
   "source": [
    "## Download dataset <flights.csv>"
   ]
  },
  {
   "cell_type": "code",
   "execution_count": 2,
   "id": "59507046",
   "metadata": {},
   "outputs": [
    {
     "data": {
      "text/html": [
       "<div>\n",
       "<style scoped>\n",
       "    .dataframe tbody tr th:only-of-type {\n",
       "        vertical-align: middle;\n",
       "    }\n",
       "\n",
       "    .dataframe tbody tr th {\n",
       "        vertical-align: top;\n",
       "    }\n",
       "\n",
       "    .dataframe thead th {\n",
       "        text-align: right;\n",
       "    }\n",
       "</style>\n",
       "<table border=\"1\" class=\"dataframe\">\n",
       "  <thead>\n",
       "    <tr style=\"text-align: right;\">\n",
       "      <th></th>\n",
       "      <th>year</th>\n",
       "      <th>month</th>\n",
       "      <th>day</th>\n",
       "      <th>dep_time</th>\n",
       "      <th>dep_delay</th>\n",
       "      <th>arr_time</th>\n",
       "      <th>arr_delay</th>\n",
       "      <th>carrier</th>\n",
       "      <th>tailnum</th>\n",
       "      <th>flight</th>\n",
       "      <th>origin</th>\n",
       "      <th>dest</th>\n",
       "      <th>air_time</th>\n",
       "      <th>distance</th>\n",
       "      <th>hour</th>\n",
       "      <th>minute</th>\n",
       "    </tr>\n",
       "  </thead>\n",
       "  <tbody>\n",
       "    <tr>\n",
       "      <th>0</th>\n",
       "      <td>2014</td>\n",
       "      <td>12</td>\n",
       "      <td>8</td>\n",
       "      <td>658.0</td>\n",
       "      <td>-7.0</td>\n",
       "      <td>935.0</td>\n",
       "      <td>-5.0</td>\n",
       "      <td>VX</td>\n",
       "      <td>N846VA</td>\n",
       "      <td>1780</td>\n",
       "      <td>SEA</td>\n",
       "      <td>LAX</td>\n",
       "      <td>132.0</td>\n",
       "      <td>954</td>\n",
       "      <td>6.0</td>\n",
       "      <td>58.0</td>\n",
       "    </tr>\n",
       "    <tr>\n",
       "      <th>1</th>\n",
       "      <td>2014</td>\n",
       "      <td>1</td>\n",
       "      <td>22</td>\n",
       "      <td>1040.0</td>\n",
       "      <td>5.0</td>\n",
       "      <td>1505.0</td>\n",
       "      <td>5.0</td>\n",
       "      <td>AS</td>\n",
       "      <td>N559AS</td>\n",
       "      <td>851</td>\n",
       "      <td>SEA</td>\n",
       "      <td>HNL</td>\n",
       "      <td>360.0</td>\n",
       "      <td>2677</td>\n",
       "      <td>10.0</td>\n",
       "      <td>40.0</td>\n",
       "    </tr>\n",
       "    <tr>\n",
       "      <th>2</th>\n",
       "      <td>2014</td>\n",
       "      <td>3</td>\n",
       "      <td>9</td>\n",
       "      <td>1443.0</td>\n",
       "      <td>-2.0</td>\n",
       "      <td>1652.0</td>\n",
       "      <td>2.0</td>\n",
       "      <td>VX</td>\n",
       "      <td>N847VA</td>\n",
       "      <td>755</td>\n",
       "      <td>SEA</td>\n",
       "      <td>SFO</td>\n",
       "      <td>111.0</td>\n",
       "      <td>679</td>\n",
       "      <td>14.0</td>\n",
       "      <td>43.0</td>\n",
       "    </tr>\n",
       "    <tr>\n",
       "      <th>3</th>\n",
       "      <td>2014</td>\n",
       "      <td>4</td>\n",
       "      <td>9</td>\n",
       "      <td>1705.0</td>\n",
       "      <td>45.0</td>\n",
       "      <td>1839.0</td>\n",
       "      <td>34.0</td>\n",
       "      <td>WN</td>\n",
       "      <td>N360SW</td>\n",
       "      <td>344</td>\n",
       "      <td>PDX</td>\n",
       "      <td>SJC</td>\n",
       "      <td>83.0</td>\n",
       "      <td>569</td>\n",
       "      <td>17.0</td>\n",
       "      <td>5.0</td>\n",
       "    </tr>\n",
       "    <tr>\n",
       "      <th>4</th>\n",
       "      <td>2014</td>\n",
       "      <td>3</td>\n",
       "      <td>9</td>\n",
       "      <td>754.0</td>\n",
       "      <td>-1.0</td>\n",
       "      <td>1015.0</td>\n",
       "      <td>1.0</td>\n",
       "      <td>AS</td>\n",
       "      <td>N612AS</td>\n",
       "      <td>522</td>\n",
       "      <td>SEA</td>\n",
       "      <td>BUR</td>\n",
       "      <td>127.0</td>\n",
       "      <td>937</td>\n",
       "      <td>7.0</td>\n",
       "      <td>54.0</td>\n",
       "    </tr>\n",
       "    <tr>\n",
       "      <th>5</th>\n",
       "      <td>2014</td>\n",
       "      <td>1</td>\n",
       "      <td>15</td>\n",
       "      <td>1037.0</td>\n",
       "      <td>7.0</td>\n",
       "      <td>1352.0</td>\n",
       "      <td>2.0</td>\n",
       "      <td>WN</td>\n",
       "      <td>N646SW</td>\n",
       "      <td>48</td>\n",
       "      <td>PDX</td>\n",
       "      <td>DEN</td>\n",
       "      <td>121.0</td>\n",
       "      <td>991</td>\n",
       "      <td>10.0</td>\n",
       "      <td>37.0</td>\n",
       "    </tr>\n",
       "    <tr>\n",
       "      <th>6</th>\n",
       "      <td>2014</td>\n",
       "      <td>7</td>\n",
       "      <td>2</td>\n",
       "      <td>847.0</td>\n",
       "      <td>42.0</td>\n",
       "      <td>1041.0</td>\n",
       "      <td>51.0</td>\n",
       "      <td>WN</td>\n",
       "      <td>N422WN</td>\n",
       "      <td>1520</td>\n",
       "      <td>PDX</td>\n",
       "      <td>OAK</td>\n",
       "      <td>90.0</td>\n",
       "      <td>543</td>\n",
       "      <td>8.0</td>\n",
       "      <td>47.0</td>\n",
       "    </tr>\n",
       "    <tr>\n",
       "      <th>7</th>\n",
       "      <td>2014</td>\n",
       "      <td>5</td>\n",
       "      <td>12</td>\n",
       "      <td>1655.0</td>\n",
       "      <td>-5.0</td>\n",
       "      <td>1842.0</td>\n",
       "      <td>-18.0</td>\n",
       "      <td>VX</td>\n",
       "      <td>N361VA</td>\n",
       "      <td>755</td>\n",
       "      <td>SEA</td>\n",
       "      <td>SFO</td>\n",
       "      <td>98.0</td>\n",
       "      <td>679</td>\n",
       "      <td>16.0</td>\n",
       "      <td>55.0</td>\n",
       "    </tr>\n",
       "    <tr>\n",
       "      <th>8</th>\n",
       "      <td>2014</td>\n",
       "      <td>4</td>\n",
       "      <td>19</td>\n",
       "      <td>1236.0</td>\n",
       "      <td>-4.0</td>\n",
       "      <td>1508.0</td>\n",
       "      <td>-7.0</td>\n",
       "      <td>AS</td>\n",
       "      <td>N309AS</td>\n",
       "      <td>490</td>\n",
       "      <td>SEA</td>\n",
       "      <td>SAN</td>\n",
       "      <td>135.0</td>\n",
       "      <td>1050</td>\n",
       "      <td>12.0</td>\n",
       "      <td>36.0</td>\n",
       "    </tr>\n",
       "    <tr>\n",
       "      <th>9</th>\n",
       "      <td>2014</td>\n",
       "      <td>11</td>\n",
       "      <td>19</td>\n",
       "      <td>1812.0</td>\n",
       "      <td>-3.0</td>\n",
       "      <td>2352.0</td>\n",
       "      <td>-4.0</td>\n",
       "      <td>AS</td>\n",
       "      <td>N564AS</td>\n",
       "      <td>26</td>\n",
       "      <td>SEA</td>\n",
       "      <td>ORD</td>\n",
       "      <td>198.0</td>\n",
       "      <td>1721</td>\n",
       "      <td>18.0</td>\n",
       "      <td>12.0</td>\n",
       "    </tr>\n",
       "  </tbody>\n",
       "</table>\n",
       "</div>"
      ],
      "text/plain": [
       "   year  month  day  dep_time  dep_delay  arr_time  arr_delay carrier tailnum  \\\n",
       "0  2014     12    8     658.0       -7.0     935.0       -5.0      VX  N846VA   \n",
       "1  2014      1   22    1040.0        5.0    1505.0        5.0      AS  N559AS   \n",
       "2  2014      3    9    1443.0       -2.0    1652.0        2.0      VX  N847VA   \n",
       "3  2014      4    9    1705.0       45.0    1839.0       34.0      WN  N360SW   \n",
       "4  2014      3    9     754.0       -1.0    1015.0        1.0      AS  N612AS   \n",
       "5  2014      1   15    1037.0        7.0    1352.0        2.0      WN  N646SW   \n",
       "6  2014      7    2     847.0       42.0    1041.0       51.0      WN  N422WN   \n",
       "7  2014      5   12    1655.0       -5.0    1842.0      -18.0      VX  N361VA   \n",
       "8  2014      4   19    1236.0       -4.0    1508.0       -7.0      AS  N309AS   \n",
       "9  2014     11   19    1812.0       -3.0    2352.0       -4.0      AS  N564AS   \n",
       "\n",
       "   flight origin dest  air_time  distance  hour  minute  \n",
       "0    1780    SEA  LAX     132.0       954   6.0    58.0  \n",
       "1     851    SEA  HNL     360.0      2677  10.0    40.0  \n",
       "2     755    SEA  SFO     111.0       679  14.0    43.0  \n",
       "3     344    PDX  SJC      83.0       569  17.0     5.0  \n",
       "4     522    SEA  BUR     127.0       937   7.0    54.0  \n",
       "5      48    PDX  DEN     121.0       991  10.0    37.0  \n",
       "6    1520    PDX  OAK      90.0       543   8.0    47.0  \n",
       "7     755    SEA  SFO      98.0       679  16.0    55.0  \n",
       "8     490    SEA  SAN     135.0      1050  12.0    36.0  \n",
       "9      26    SEA  ORD     198.0      1721  18.0    12.0  "
      ]
     },
     "execution_count": 2,
     "metadata": {},
     "output_type": "execute_result"
    }
   ],
   "source": [
    "!wget https://bit.ly/3h7wwzu -O flights.csv -q\n",
    "import pandas as pd \n",
    "DF=pd.read_csv('flights.csv')\n",
    "DF.head(10)"
   ]
  },
  {
   "cell_type": "code",
   "execution_count": 3,
   "id": "0f0c4041",
   "metadata": {},
   "outputs": [
    {
     "name": "stdout",
     "output_type": "stream",
     "text": [
      "year,month,day,dep_time,dep_delay,arr_time,arr_delay,carrier,tailnum,flight,origin,dest,air_time,distance,hour,minute\n",
      "2014,12,8,658.0,-7.0,935.0,-5.0,VX,N846VA,1780,SEA,LAX,132.0,954,6.0,58.0\n",
      "2014,1,22,1040.0,5.0,1505.0,5.0,AS,N559AS,851,SEA,HNL,360.0,2677,10.0,40.0\n",
      "2014,3,9,1443.0,-2.0,1652.0,2.0,VX,N847VA,755,SEA,SFO,111.0,679,14.0,43.0\n",
      "2014,4,9,1705.0,45.0,1839.0,34.0,WN,N360SW,344,PDX,SJC,83.0,569,17.0,5.0\n",
      "2014,3,9,754.0,-1.0,1015.0,1.0,AS,N612AS,522,SEA,BUR,127.0,937,7.0,54.0\n",
      "2014,1,15,1037.0,7.0,1352.0,2.0,WN,N646SW,48,PDX,DEN,121.0,991,10.0,37.0\n",
      "2014,7,2,847.0,42.0,1041.0,51.0,WN,N422WN,1520,PDX,OAK,90.0,543,8.0,47.0\n",
      "2014,5,12,1655.0,-5.0,1842.0,-18.0,VX,N361VA,755,SEA,SFO,98.0,679,16.0,55.0\n",
      "2014,4,19,1236.0,-4.0,1508.0,-7.0,AS,N309AS,490,SEA,SAN,135.0,1050,12.0,36.0\n"
     ]
    }
   ],
   "source": [
    "!head -n 10 flights.csv"
   ]
  },
  {
   "cell_type": "markdown",
   "id": "b7ec7897",
   "metadata": {},
   "source": [
    "## Download dataset <airports.csv>"
   ]
  },
  {
   "cell_type": "code",
   "execution_count": 4,
   "id": "d0bdabd2",
   "metadata": {},
   "outputs": [
    {
     "data": {
      "text/html": [
       "<div>\n",
       "<style scoped>\n",
       "    .dataframe tbody tr th:only-of-type {\n",
       "        vertical-align: middle;\n",
       "    }\n",
       "\n",
       "    .dataframe tbody tr th {\n",
       "        vertical-align: top;\n",
       "    }\n",
       "\n",
       "    .dataframe thead th {\n",
       "        text-align: right;\n",
       "    }\n",
       "</style>\n",
       "<table border=\"1\" class=\"dataframe\">\n",
       "  <thead>\n",
       "    <tr style=\"text-align: right;\">\n",
       "      <th></th>\n",
       "      <th>faa</th>\n",
       "      <th>name</th>\n",
       "      <th>lat</th>\n",
       "      <th>lon</th>\n",
       "      <th>alt</th>\n",
       "      <th>tz</th>\n",
       "      <th>dst</th>\n",
       "    </tr>\n",
       "  </thead>\n",
       "  <tbody>\n",
       "    <tr>\n",
       "      <th>0</th>\n",
       "      <td>04G</td>\n",
       "      <td>Lansdowne Airport</td>\n",
       "      <td>41.130472</td>\n",
       "      <td>-80.619583</td>\n",
       "      <td>1044</td>\n",
       "      <td>-5</td>\n",
       "      <td>A</td>\n",
       "    </tr>\n",
       "    <tr>\n",
       "      <th>1</th>\n",
       "      <td>06A</td>\n",
       "      <td>Moton Field Municipal Airport</td>\n",
       "      <td>32.460572</td>\n",
       "      <td>-85.680028</td>\n",
       "      <td>264</td>\n",
       "      <td>-5</td>\n",
       "      <td>A</td>\n",
       "    </tr>\n",
       "    <tr>\n",
       "      <th>2</th>\n",
       "      <td>06C</td>\n",
       "      <td>Schaumburg Regional</td>\n",
       "      <td>41.989341</td>\n",
       "      <td>-88.101243</td>\n",
       "      <td>801</td>\n",
       "      <td>-6</td>\n",
       "      <td>A</td>\n",
       "    </tr>\n",
       "    <tr>\n",
       "      <th>3</th>\n",
       "      <td>06N</td>\n",
       "      <td>Randall Airport</td>\n",
       "      <td>41.431912</td>\n",
       "      <td>-74.391561</td>\n",
       "      <td>523</td>\n",
       "      <td>-5</td>\n",
       "      <td>A</td>\n",
       "    </tr>\n",
       "    <tr>\n",
       "      <th>4</th>\n",
       "      <td>09J</td>\n",
       "      <td>Jekyll Island Airport</td>\n",
       "      <td>31.074472</td>\n",
       "      <td>-81.427778</td>\n",
       "      <td>11</td>\n",
       "      <td>-4</td>\n",
       "      <td>A</td>\n",
       "    </tr>\n",
       "    <tr>\n",
       "      <th>5</th>\n",
       "      <td>0A9</td>\n",
       "      <td>Elizabethton Municipal Airport</td>\n",
       "      <td>36.371222</td>\n",
       "      <td>-82.173417</td>\n",
       "      <td>1593</td>\n",
       "      <td>-4</td>\n",
       "      <td>A</td>\n",
       "    </tr>\n",
       "    <tr>\n",
       "      <th>6</th>\n",
       "      <td>0G6</td>\n",
       "      <td>Williams County Airport</td>\n",
       "      <td>41.467306</td>\n",
       "      <td>-84.506778</td>\n",
       "      <td>730</td>\n",
       "      <td>-5</td>\n",
       "      <td>A</td>\n",
       "    </tr>\n",
       "    <tr>\n",
       "      <th>7</th>\n",
       "      <td>0G7</td>\n",
       "      <td>Finger Lakes Regional Airport</td>\n",
       "      <td>42.883565</td>\n",
       "      <td>-76.781232</td>\n",
       "      <td>492</td>\n",
       "      <td>-5</td>\n",
       "      <td>A</td>\n",
       "    </tr>\n",
       "    <tr>\n",
       "      <th>8</th>\n",
       "      <td>0P2</td>\n",
       "      <td>Shoestring Aviation Airfield</td>\n",
       "      <td>39.794824</td>\n",
       "      <td>-76.647191</td>\n",
       "      <td>1000</td>\n",
       "      <td>-5</td>\n",
       "      <td>U</td>\n",
       "    </tr>\n",
       "    <tr>\n",
       "      <th>9</th>\n",
       "      <td>0S9</td>\n",
       "      <td>Jefferson County Intl</td>\n",
       "      <td>48.053809</td>\n",
       "      <td>-122.810644</td>\n",
       "      <td>108</td>\n",
       "      <td>-8</td>\n",
       "      <td>A</td>\n",
       "    </tr>\n",
       "  </tbody>\n",
       "</table>\n",
       "</div>"
      ],
      "text/plain": [
       "   faa                            name        lat         lon   alt  tz dst\n",
       "0  04G               Lansdowne Airport  41.130472  -80.619583  1044  -5   A\n",
       "1  06A   Moton Field Municipal Airport  32.460572  -85.680028   264  -5   A\n",
       "2  06C             Schaumburg Regional  41.989341  -88.101243   801  -6   A\n",
       "3  06N                 Randall Airport  41.431912  -74.391561   523  -5   A\n",
       "4  09J           Jekyll Island Airport  31.074472  -81.427778    11  -4   A\n",
       "5  0A9  Elizabethton Municipal Airport  36.371222  -82.173417  1593  -4   A\n",
       "6  0G6         Williams County Airport  41.467306  -84.506778   730  -5   A\n",
       "7  0G7   Finger Lakes Regional Airport  42.883565  -76.781232   492  -5   A\n",
       "8  0P2    Shoestring Aviation Airfield  39.794824  -76.647191  1000  -5   U\n",
       "9  0S9           Jefferson County Intl  48.053809 -122.810644   108  -8   A"
      ]
     },
     "execution_count": 4,
     "metadata": {},
     "output_type": "execute_result"
    }
   ],
   "source": [
    "!wget https://bit.ly/33o0x6b -O airports.csv -q \n",
    "\n",
    "DF2=pd.read_csv('airports.csv')\n",
    "DF2.head(10)"
   ]
  },
  {
   "cell_type": "code",
   "execution_count": 5,
   "id": "93aa7bd4",
   "metadata": {},
   "outputs": [
    {
     "name": "stdout",
     "output_type": "stream",
     "text": [
      "faa,name,lat,lon,alt,tz,dst\n",
      "04G,Lansdowne Airport,41.1304722,-80.6195833,1044,-5,A\n",
      "06A,Moton Field Municipal Airport,32.4605722,-85.6800278,264,-5,A\n",
      "06C,Schaumburg Regional,41.9893408,-88.1012428,801,-6,A\n",
      "06N,Randall Airport,41.431912,-74.3915611,523,-5,A\n",
      "09J,Jekyll Island Airport,31.0744722,-81.4277778,11,-4,A\n",
      "0A9,Elizabethton Municipal Airport,36.3712222,-82.1734167,1593,-4,A\n",
      "0G6,Williams County Airport,41.4673056,-84.5067778,730,-5,A\n",
      "0G7,Finger Lakes Regional Airport,42.8835647,-76.7812318,492,-5,A\n",
      "0P2,Shoestring Aviation Airfield,39.7948244,-76.6471914,1000,-5,U\n"
     ]
    }
   ],
   "source": [
    "!head -n 10 airports.csv"
   ]
  },
  {
   "cell_type": "markdown",
   "id": "beda6c3b",
   "metadata": {},
   "source": [
    "### Download dataset <planes.csv>"
   ]
  },
  {
   "cell_type": "code",
   "execution_count": 6,
   "id": "4d0a0e31",
   "metadata": {},
   "outputs": [
    {
     "data": {
      "text/html": [
       "<div>\n",
       "<style scoped>\n",
       "    .dataframe tbody tr th:only-of-type {\n",
       "        vertical-align: middle;\n",
       "    }\n",
       "\n",
       "    .dataframe tbody tr th {\n",
       "        vertical-align: top;\n",
       "    }\n",
       "\n",
       "    .dataframe thead th {\n",
       "        text-align: right;\n",
       "    }\n",
       "</style>\n",
       "<table border=\"1\" class=\"dataframe\">\n",
       "  <thead>\n",
       "    <tr style=\"text-align: right;\">\n",
       "      <th></th>\n",
       "      <th>tailnum</th>\n",
       "      <th>year</th>\n",
       "      <th>type</th>\n",
       "      <th>manufacturer</th>\n",
       "      <th>model</th>\n",
       "      <th>engines</th>\n",
       "      <th>seats</th>\n",
       "      <th>speed</th>\n",
       "      <th>engine</th>\n",
       "    </tr>\n",
       "  </thead>\n",
       "  <tbody>\n",
       "    <tr>\n",
       "      <th>0</th>\n",
       "      <td>N102UW</td>\n",
       "      <td>1998.0</td>\n",
       "      <td>Fixed wing multi engine</td>\n",
       "      <td>AIRBUS INDUSTRIE</td>\n",
       "      <td>A320-214</td>\n",
       "      <td>2</td>\n",
       "      <td>182</td>\n",
       "      <td>NaN</td>\n",
       "      <td>Turbo-fan</td>\n",
       "    </tr>\n",
       "    <tr>\n",
       "      <th>1</th>\n",
       "      <td>N103US</td>\n",
       "      <td>1999.0</td>\n",
       "      <td>Fixed wing multi engine</td>\n",
       "      <td>AIRBUS INDUSTRIE</td>\n",
       "      <td>A320-214</td>\n",
       "      <td>2</td>\n",
       "      <td>182</td>\n",
       "      <td>NaN</td>\n",
       "      <td>Turbo-fan</td>\n",
       "    </tr>\n",
       "    <tr>\n",
       "      <th>2</th>\n",
       "      <td>N104UW</td>\n",
       "      <td>1999.0</td>\n",
       "      <td>Fixed wing multi engine</td>\n",
       "      <td>AIRBUS INDUSTRIE</td>\n",
       "      <td>A320-214</td>\n",
       "      <td>2</td>\n",
       "      <td>182</td>\n",
       "      <td>NaN</td>\n",
       "      <td>Turbo-fan</td>\n",
       "    </tr>\n",
       "    <tr>\n",
       "      <th>3</th>\n",
       "      <td>N105UW</td>\n",
       "      <td>1999.0</td>\n",
       "      <td>Fixed wing multi engine</td>\n",
       "      <td>AIRBUS INDUSTRIE</td>\n",
       "      <td>A320-214</td>\n",
       "      <td>2</td>\n",
       "      <td>182</td>\n",
       "      <td>NaN</td>\n",
       "      <td>Turbo-fan</td>\n",
       "    </tr>\n",
       "    <tr>\n",
       "      <th>4</th>\n",
       "      <td>N107US</td>\n",
       "      <td>1999.0</td>\n",
       "      <td>Fixed wing multi engine</td>\n",
       "      <td>AIRBUS INDUSTRIE</td>\n",
       "      <td>A320-214</td>\n",
       "      <td>2</td>\n",
       "      <td>182</td>\n",
       "      <td>NaN</td>\n",
       "      <td>Turbo-fan</td>\n",
       "    </tr>\n",
       "    <tr>\n",
       "      <th>5</th>\n",
       "      <td>N108UW</td>\n",
       "      <td>1999.0</td>\n",
       "      <td>Fixed wing multi engine</td>\n",
       "      <td>AIRBUS INDUSTRIE</td>\n",
       "      <td>A320-214</td>\n",
       "      <td>2</td>\n",
       "      <td>182</td>\n",
       "      <td>NaN</td>\n",
       "      <td>Turbo-fan</td>\n",
       "    </tr>\n",
       "    <tr>\n",
       "      <th>6</th>\n",
       "      <td>N109UW</td>\n",
       "      <td>1999.0</td>\n",
       "      <td>Fixed wing multi engine</td>\n",
       "      <td>AIRBUS INDUSTRIE</td>\n",
       "      <td>A320-214</td>\n",
       "      <td>2</td>\n",
       "      <td>182</td>\n",
       "      <td>NaN</td>\n",
       "      <td>Turbo-fan</td>\n",
       "    </tr>\n",
       "    <tr>\n",
       "      <th>7</th>\n",
       "      <td>N110UW</td>\n",
       "      <td>1999.0</td>\n",
       "      <td>Fixed wing multi engine</td>\n",
       "      <td>AIRBUS INDUSTRIE</td>\n",
       "      <td>A320-214</td>\n",
       "      <td>2</td>\n",
       "      <td>182</td>\n",
       "      <td>NaN</td>\n",
       "      <td>Turbo-fan</td>\n",
       "    </tr>\n",
       "    <tr>\n",
       "      <th>8</th>\n",
       "      <td>N111US</td>\n",
       "      <td>1999.0</td>\n",
       "      <td>Fixed wing multi engine</td>\n",
       "      <td>AIRBUS INDUSTRIE</td>\n",
       "      <td>A320-214</td>\n",
       "      <td>2</td>\n",
       "      <td>182</td>\n",
       "      <td>NaN</td>\n",
       "      <td>Turbo-fan</td>\n",
       "    </tr>\n",
       "    <tr>\n",
       "      <th>9</th>\n",
       "      <td>N11206</td>\n",
       "      <td>2000.0</td>\n",
       "      <td>Fixed wing multi engine</td>\n",
       "      <td>BOEING</td>\n",
       "      <td>737-824</td>\n",
       "      <td>2</td>\n",
       "      <td>149</td>\n",
       "      <td>NaN</td>\n",
       "      <td>Turbo-fan</td>\n",
       "    </tr>\n",
       "  </tbody>\n",
       "</table>\n",
       "</div>"
      ],
      "text/plain": [
       "  tailnum    year                     type      manufacturer     model  \\\n",
       "0  N102UW  1998.0  Fixed wing multi engine  AIRBUS INDUSTRIE  A320-214   \n",
       "1  N103US  1999.0  Fixed wing multi engine  AIRBUS INDUSTRIE  A320-214   \n",
       "2  N104UW  1999.0  Fixed wing multi engine  AIRBUS INDUSTRIE  A320-214   \n",
       "3  N105UW  1999.0  Fixed wing multi engine  AIRBUS INDUSTRIE  A320-214   \n",
       "4  N107US  1999.0  Fixed wing multi engine  AIRBUS INDUSTRIE  A320-214   \n",
       "5  N108UW  1999.0  Fixed wing multi engine  AIRBUS INDUSTRIE  A320-214   \n",
       "6  N109UW  1999.0  Fixed wing multi engine  AIRBUS INDUSTRIE  A320-214   \n",
       "7  N110UW  1999.0  Fixed wing multi engine  AIRBUS INDUSTRIE  A320-214   \n",
       "8  N111US  1999.0  Fixed wing multi engine  AIRBUS INDUSTRIE  A320-214   \n",
       "9  N11206  2000.0  Fixed wing multi engine            BOEING   737-824   \n",
       "\n",
       "   engines  seats  speed     engine  \n",
       "0        2    182    NaN  Turbo-fan  \n",
       "1        2    182    NaN  Turbo-fan  \n",
       "2        2    182    NaN  Turbo-fan  \n",
       "3        2    182    NaN  Turbo-fan  \n",
       "4        2    182    NaN  Turbo-fan  \n",
       "5        2    182    NaN  Turbo-fan  \n",
       "6        2    182    NaN  Turbo-fan  \n",
       "7        2    182    NaN  Turbo-fan  \n",
       "8        2    182    NaN  Turbo-fan  \n",
       "9        2    149    NaN  Turbo-fan  "
      ]
     },
     "execution_count": 6,
     "metadata": {},
     "output_type": "execute_result"
    }
   ],
   "source": [
    "!wget https://bit.ly/3fisVfB -O planes.csv -q\n",
    "import pandas as pd \n",
    "DF3=pd.read_csv('planes.csv')\n",
    "DF3.head(10)\n",
    "    \n"
   ]
  },
  {
   "cell_type": "markdown",
   "id": "7b6c0b76",
   "metadata": {},
   "source": [
    "## Read spark DataFrames  \n",
    "- flights, \n",
    "- airports, \n",
    "- planes"
   ]
  },
  {
   "cell_type": "code",
   "execution_count": 8,
   "id": "04f5d54f",
   "metadata": {},
   "outputs": [],
   "source": [
    "from pyspark.sql import SparkSession\n",
    "\n",
    "# Create SparkSession\n",
    "spark = SparkSession.builder.master(\"local[*]\").getOrCreate()\n",
    "\n",
    "# Read flights.csv as spark dataframe \n",
    "flights=spark.read.csv('flights.csv',header=True, inferSchema=True)\n",
    "\n",
    "# Read airports.csv as spark dataframe \n",
    "airports=spark.read.csv('airports.csv',header=True, inferSchema=True)\n",
    "\n",
    "# Read planes.csv as spark dataframe \n",
    "planes=spark.read.csv('planes.csv',header=True, inferSchema=True)\n",
    "\n"
   ]
  },
  {
   "cell_type": "markdown",
   "id": "0e38f61a",
   "metadata": {},
   "source": [
    "## Use show, describe, summary!"
   ]
  },
  {
   "cell_type": "code",
   "execution_count": 19,
   "id": "6a941bd2",
   "metadata": {},
   "outputs": [
    {
     "name": "stdout",
     "output_type": "stream",
     "text": [
      "+----+-----+---+--------+---------+--------+---------+-------+-------+------+------+----+--------+--------+----+------+\n",
      "|year|month|day|dep_time|dep_delay|arr_time|arr_delay|carrier|tailnum|flight|origin|dest|air_time|distance|hour|minute|\n",
      "+----+-----+---+--------+---------+--------+---------+-------+-------+------+------+----+--------+--------+----+------+\n",
      "|2014|12   |8  |658.0   |-7.0     |935.0   |-5.0     |VX     |N846VA |1780  |SEA   |LAX |132.0   |954     |6.0 |58.0  |\n",
      "|2014|1    |22 |1040.0  |5.0      |1505.0  |5.0      |AS     |N559AS |851   |SEA   |HNL |360.0   |2677    |10.0|40.0  |\n",
      "|2014|3    |9  |1443.0  |-2.0     |1652.0  |2.0      |VX     |N847VA |755   |SEA   |SFO |111.0   |679     |14.0|43.0  |\n",
      "+----+-----+---+--------+---------+--------+---------+-------+-------+------+------+----+--------+--------+----+------+\n",
      "only showing top 3 rows\n",
      "\n"
     ]
    }
   ],
   "source": [
    "flights.show(3,truncate=False)"
   ]
  },
  {
   "cell_type": "code",
   "execution_count": 26,
   "id": "db2356cf",
   "metadata": {},
   "outputs": [
    {
     "data": {
      "text/plain": [
       "DataFrame[summary: string, year: string, month: string, day: string, dep_time: string, dep_delay: string, arr_time: string, arr_delay: string, carrier: string, tailnum: string, flight: string, origin: string, dest: string, air_time: string, distance: string, hour: string, minute: string]"
      ]
     },
     "execution_count": 26,
     "metadata": {},
     "output_type": "execute_result"
    }
   ],
   "source": [
    "flights.describe()\n",
    "\n"
   ]
  },
  {
   "cell_type": "markdown",
   "id": "ea40b56f",
   "metadata": {},
   "source": [
    "### Summary"
   ]
  },
  {
   "cell_type": "code",
   "execution_count": 24,
   "id": "1e9e8dee",
   "metadata": {},
   "outputs": [
    {
     "name": "stdout",
     "output_type": "stream",
     "text": [
      "+-------+-----+-----+-----+--------+---------+--------+---------+-------+-------+------+------+-----+--------+--------+----+------+\n",
      "|summary| year|month|  day|dep_time|dep_delay|arr_time|arr_delay|carrier|tailnum|flight|origin| dest|air_time|distance|hour|minute|\n",
      "+-------+-----+-----+-----+--------+---------+--------+---------+-------+-------+------+------+-----+--------+--------+----+------+\n",
      "|  count|10000|10000|10000|    9952|     9952|    9945|     9925|  10000|   9986| 10000| 10000|10000|    9925|   10000|9952|  9952|\n",
      "|    min| 2014|    1|    1|     1.0|    -19.0|     1.0|    -58.0|     AA| D942DN|     2|   PDX|  ABQ|    20.0|      93| 0.0|   0.0|\n",
      "|    25%| 2014|    4|    8|   831.0|     -5.0|  1122.0|    -12.0|   null|   null|   407|  null| null|   102.0|     689| 8.0|  15.0|\n",
      "|    75%| 2014|    9|   23|  1720.0|      5.0|  1916.0|      7.0|   null|   null|  1760|  null| null|   200.0|    1660|17.0|  47.0|\n",
      "|    max| 2014|   12|   31|  2400.0|    886.0|  2400.0|    900.0|     WN| N988CA|  6527|   SEA|  TUS|   409.0|    2724|24.0|  59.0|\n",
      "+-------+-----+-----+-----+--------+---------+--------+---------+-------+-------+------+------+-----+--------+--------+----+------+\n",
      "\n"
     ]
    }
   ],
   "source": [
    "flights.summary(\"count\", \"min\", \"25%\", \"75%\", \"max\").show()"
   ]
  },
  {
   "cell_type": "code",
   "execution_count": 28,
   "id": "b80416d1",
   "metadata": {},
   "outputs": [
    {
     "name": "stdout",
     "output_type": "stream",
     "text": [
      "+-------+-----+--------+--------+\n",
      "|summary| year|distance|air_time|\n",
      "+-------+-----+--------+--------+\n",
      "|  count|10000|   10000|    9925|\n",
      "|    min| 2014|      93|    20.0|\n",
      "|    25%| 2014|     689|   102.0|\n",
      "|    75%| 2014|    1660|   200.0|\n",
      "|    max| 2014|    2724|   409.0|\n",
      "+-------+-----+--------+--------+\n",
      "\n"
     ]
    }
   ],
   "source": [
    "flights.select('year','distance','air_time').summary(\"count\", \"min\", \"25%\", \"75%\", \"max\").show()"
   ]
  },
  {
   "cell_type": "code",
   "execution_count": 29,
   "id": "be68cf4e",
   "metadata": {},
   "outputs": [
    {
     "name": "stdout",
     "output_type": "stream",
     "text": [
      "+-------+-------+------+--------------------+------------+-------------+-------+-----+-----+-----------+\n",
      "|summary|tailnum|  year|                type|manufacturer|        model|engines|seats|speed|     engine|\n",
      "+-------+-------+------+--------------------+------------+-------------+-------+-----+-----+-----------+\n",
      "|  count|   2628|  2628|                2628|        2628|         2628|   2628| 2628| 2628|       2628|\n",
      "|    min| N102UW|     0|Fixed wing multi ...|      AIRBUS|          150|      1|    2|  107|    4 Cycle|\n",
      "|    25%|   null|1998.0|                null|        null|        150.0|      2|  140| 90.0|       null|\n",
      "|    75%|   null|2007.0|                null|        null|        150.0|      2|  191|112.0|       null|\n",
      "|    max| N988CA|    NA|          Rotorcraft|    SIKORSKY|ZODIAC 601HDS|      4|  450|   NA|Turbo-shaft|\n",
      "+-------+-------+------+--------------------+------------+-------------+-------+-----+-----+-----------+\n",
      "\n"
     ]
    }
   ],
   "source": [
    "planes.summary(\"count\", \"min\", \"25%\", \"75%\", \"max\").show()"
   ]
  },
  {
   "cell_type": "code",
   "execution_count": 31,
   "id": "ab5c3adf",
   "metadata": {},
   "outputs": [
    {
     "name": "stdout",
     "output_type": "stream",
     "text": [
      "+-------+------+-----+-----+\n",
      "|summary|  year|seats|speed|\n",
      "+-------+------+-----+-----+\n",
      "|  count|  2628| 2628| 2628|\n",
      "|    min|     0|    2|  107|\n",
      "|    25%|1998.0|  140| 90.0|\n",
      "|    75%|2007.0|  191|112.0|\n",
      "|    max|    NA|  450|   NA|\n",
      "+-------+------+-----+-----+\n",
      "\n"
     ]
    }
   ],
   "source": [
    "planes.select('year','seats','speed').summary(\"count\", \"min\", \"25%\", \"75%\", \"max\").show()"
   ]
  },
  {
   "cell_type": "markdown",
   "id": "8e64c2f4",
   "metadata": {},
   "source": [
    "### Using filter "
   ]
  },
  {
   "cell_type": "code",
   "execution_count": 32,
   "id": "b86b0b19",
   "metadata": {},
   "outputs": [
    {
     "name": "stdout",
     "output_type": "stream",
     "text": [
      "+----+-----+---+--------+---------+--------+---------+-------+-------+------+------+----+--------+--------+----+------+\n",
      "|year|month|day|dep_time|dep_delay|arr_time|arr_delay|carrier|tailnum|flight|origin|dest|air_time|distance|hour|minute|\n",
      "+----+-----+---+--------+---------+--------+---------+-------+-------+------+------+----+--------+--------+----+------+\n",
      "|2014|   12|  8|   658.0|     -7.0|   935.0|     -5.0|     VX| N846VA|  1780|   SEA| LAX|   132.0|     954| 6.0|  58.0|\n",
      "|2014|    1| 22|  1040.0|      5.0|  1505.0|      5.0|     AS| N559AS|   851|   SEA| HNL|   360.0|    2677|10.0|  40.0|\n",
      "|2014|    3|  9|  1443.0|     -2.0|  1652.0|      2.0|     VX| N847VA|   755|   SEA| SFO|   111.0|     679|14.0|  43.0|\n",
      "|2014|    3|  9|   754.0|     -1.0|  1015.0|      1.0|     AS| N612AS|   522|   SEA| BUR|   127.0|     937| 7.0|  54.0|\n",
      "|2014|    5| 12|  1655.0|     -5.0|  1842.0|    -18.0|     VX| N361VA|   755|   SEA| SFO|    98.0|     679|16.0|  55.0|\n",
      "|2014|    4| 19|  1236.0|     -4.0|  1508.0|     -7.0|     AS| N309AS|   490|   SEA| SAN|   135.0|    1050|12.0|  36.0|\n",
      "|2014|   11| 19|  1812.0|     -3.0|  2352.0|     -4.0|     AS| N564AS|    26|   SEA| ORD|   198.0|    1721|18.0|  12.0|\n",
      "|2014|   11|  8|  1653.0|     -2.0|  1924.0|     -1.0|     AS| N323AS|   448|   SEA| LAX|   130.0|     954|16.0|  53.0|\n",
      "|2014|    8|  3|  1120.0|      0.0|  1415.0|      2.0|     AS| N305AS|   656|   SEA| PHX|   154.0|    1107|11.0|  20.0|\n",
      "|2014|   10| 30|   811.0|     21.0|  1038.0|     29.0|     AS| N433AS|   608|   SEA| LAS|   127.0|     867| 8.0|  11.0|\n",
      "+----+-----+---+--------+---------+--------+---------+-------+-------+------+------+----+--------+--------+----+------+\n",
      "only showing top 10 rows\n",
      "\n"
     ]
    }
   ],
   "source": [
    "flights.filter('origin=\"SEA\"').show(10)"
   ]
  },
  {
   "cell_type": "code",
   "execution_count": 33,
   "id": "eb8ce543",
   "metadata": {},
   "outputs": [
    {
     "name": "stdout",
     "output_type": "stream",
     "text": [
      "+----+-----+---+--------+---------+--------+---------+-------+-------+------+------+----+--------+--------+----+------+\n",
      "|year|month|day|dep_time|dep_delay|arr_time|arr_delay|carrier|tailnum|flight|origin|dest|air_time|distance|hour|minute|\n",
      "+----+-----+---+--------+---------+--------+---------+-------+-------+------+------+----+--------+--------+----+------+\n",
      "|2014|   12|  8|   658.0|     -7.0|   935.0|     -5.0|     VX| N846VA|  1780|   SEA| LAX|   132.0|     954| 6.0|  58.0|\n",
      "|2014|    1| 22|  1040.0|      5.0|  1505.0|      5.0|     AS| N559AS|   851|   SEA| HNL|   360.0|    2677|10.0|  40.0|\n",
      "|2014|    3|  9|  1443.0|     -2.0|  1652.0|      2.0|     VX| N847VA|   755|   SEA| SFO|   111.0|     679|14.0|  43.0|\n",
      "|2014|    3|  9|   754.0|     -1.0|  1015.0|      1.0|     AS| N612AS|   522|   SEA| BUR|   127.0|     937| 7.0|  54.0|\n",
      "|2014|    5| 12|  1655.0|     -5.0|  1842.0|    -18.0|     VX| N361VA|   755|   SEA| SFO|    98.0|     679|16.0|  55.0|\n",
      "|2014|    4| 19|  1236.0|     -4.0|  1508.0|     -7.0|     AS| N309AS|   490|   SEA| SAN|   135.0|    1050|12.0|  36.0|\n",
      "|2014|   11| 19|  1812.0|     -3.0|  2352.0|     -4.0|     AS| N564AS|    26|   SEA| ORD|   198.0|    1721|18.0|  12.0|\n",
      "|2014|   11|  8|  1653.0|     -2.0|  1924.0|     -1.0|     AS| N323AS|   448|   SEA| LAX|   130.0|     954|16.0|  53.0|\n",
      "|2014|    8|  3|  1120.0|      0.0|  1415.0|      2.0|     AS| N305AS|   656|   SEA| PHX|   154.0|    1107|11.0|  20.0|\n",
      "|2014|   10| 30|   811.0|     21.0|  1038.0|     29.0|     AS| N433AS|   608|   SEA| LAS|   127.0|     867| 8.0|  11.0|\n",
      "+----+-----+---+--------+---------+--------+---------+-------+-------+------+------+----+--------+--------+----+------+\n",
      "only showing top 10 rows\n",
      "\n"
     ]
    }
   ],
   "source": [
    "flights.filter(flights.origin==\"SEA\").show(10)"
   ]
  },
  {
   "cell_type": "code",
   "execution_count": 34,
   "id": "cb925ecd",
   "metadata": {},
   "outputs": [
    {
     "name": "stdout",
     "output_type": "stream",
     "text": [
      "+----+-----+---+--------+---------+--------+---------+-------+-------+------+------+----+--------+--------+----+------+\n",
      "|year|month|day|dep_time|dep_delay|arr_time|arr_delay|carrier|tailnum|flight|origin|dest|air_time|distance|hour|minute|\n",
      "+----+-----+---+--------+---------+--------+---------+-------+-------+------+------+----+--------+--------+----+------+\n",
      "|2014|   12|  8|   658.0|     -7.0|   935.0|     -5.0|     VX| N846VA|  1780|   SEA| LAX|   132.0|     954| 6.0|  58.0|\n",
      "|2014|    1| 22|  1040.0|      5.0|  1505.0|      5.0|     AS| N559AS|   851|   SEA| HNL|   360.0|    2677|10.0|  40.0|\n",
      "|2014|    4| 19|  1236.0|     -4.0|  1508.0|     -7.0|     AS| N309AS|   490|   SEA| SAN|   135.0|    1050|12.0|  36.0|\n",
      "|2014|   11| 19|  1812.0|     -3.0|  2352.0|     -4.0|     AS| N564AS|    26|   SEA| ORD|   198.0|    1721|18.0|  12.0|\n",
      "|2014|    8|  3|  1120.0|      0.0|  1415.0|      2.0|     AS| N305AS|   656|   SEA| PHX|   154.0|    1107|11.0|  20.0|\n",
      "|2014|   11| 12|  2346.0|     -4.0|   217.0|    -28.0|     AS| N765AS|   121|   SEA| ANC|   183.0|    1448|23.0|  46.0|\n",
      "|2014|    8| 11|  1017.0|     -3.0|  1613.0|     -7.0|     WN| N8634A|   827|   SEA| MDW|   216.0|    1733|10.0|  17.0|\n",
      "|2014|    1| 13|  2156.0|     -9.0|   607.0|    -15.0|     AS| N597AS|    24|   SEA| BOS|   290.0|    2496|21.0|  56.0|\n",
      "|2014|    9| 26|   610.0|     -5.0|  1523.0|     65.0|     US| N127UW|   616|   SEA| PHL|   293.0|    2378| 6.0|  10.0|\n",
      "|2014|   12|  4|   954.0|     -6.0|  1348.0|    -17.0|     HA| N395HA|    29|   SEA| OGG|   333.0|    2640| 9.0|  54.0|\n",
      "+----+-----+---+--------+---------+--------+---------+-------+-------+------+------+----+--------+--------+----+------+\n",
      "only showing top 10 rows\n",
      "\n"
     ]
    }
   ],
   "source": [
    "flights.filter('air_time >130').show(10)"
   ]
  },
  {
   "cell_type": "code",
   "execution_count": 36,
   "id": "e9bb5510",
   "metadata": {},
   "outputs": [
    {
     "name": "stdout",
     "output_type": "stream",
     "text": [
      "+----+-----+---+--------+---------+--------+---------+-------+-------+------+------+----+--------+--------+----+------+\n",
      "|year|month|day|dep_time|dep_delay|arr_time|arr_delay|carrier|tailnum|flight|origin|dest|air_time|distance|hour|minute|\n",
      "+----+-----+---+--------+---------+--------+---------+-------+-------+------+------+----+--------+--------+----+------+\n",
      "|2014|   12|  8|   658.0|     -7.0|   935.0|     -5.0|     VX| N846VA|  1780|   SEA| LAX|   132.0|     954| 6.0|  58.0|\n",
      "|2014|    1| 22|  1040.0|      5.0|  1505.0|      5.0|     AS| N559AS|   851|   SEA| HNL|   360.0|    2677|10.0|  40.0|\n",
      "|2014|    4| 19|  1236.0|     -4.0|  1508.0|     -7.0|     AS| N309AS|   490|   SEA| SAN|   135.0|    1050|12.0|  36.0|\n",
      "|2014|   11| 19|  1812.0|     -3.0|  2352.0|     -4.0|     AS| N564AS|    26|   SEA| ORD|   198.0|    1721|18.0|  12.0|\n",
      "|2014|    8|  3|  1120.0|      0.0|  1415.0|      2.0|     AS| N305AS|   656|   SEA| PHX|   154.0|    1107|11.0|  20.0|\n",
      "|2014|   11| 12|  2346.0|     -4.0|   217.0|    -28.0|     AS| N765AS|   121|   SEA| ANC|   183.0|    1448|23.0|  46.0|\n",
      "|2014|    8| 11|  1017.0|     -3.0|  1613.0|     -7.0|     WN| N8634A|   827|   SEA| MDW|   216.0|    1733|10.0|  17.0|\n",
      "|2014|    1| 13|  2156.0|     -9.0|   607.0|    -15.0|     AS| N597AS|    24|   SEA| BOS|   290.0|    2496|21.0|  56.0|\n",
      "|2014|    9| 26|   610.0|     -5.0|  1523.0|     65.0|     US| N127UW|   616|   SEA| PHL|   293.0|    2378| 6.0|  10.0|\n",
      "|2014|   12|  4|   954.0|     -6.0|  1348.0|    -17.0|     HA| N395HA|    29|   SEA| OGG|   333.0|    2640| 9.0|  54.0|\n",
      "+----+-----+---+--------+---------+--------+---------+-------+-------+------+------+----+--------+--------+----+------+\n",
      "only showing top 10 rows\n",
      "\n"
     ]
    }
   ],
   "source": [
    "flights.filter(flights.air_time >130).show(10)"
   ]
  },
  {
   "cell_type": "markdown",
   "id": "9ce12b58",
   "metadata": {},
   "source": [
    "## Questions "
   ]
  },
  {
   "cell_type": "markdown",
   "id": "70780cfc",
   "metadata": {},
   "source": [
    "### How many trips has distance greater than 1000"
   ]
  },
  {
   "cell_type": "code",
   "execution_count": 39,
   "id": "240e91f7",
   "metadata": {},
   "outputs": [
    {
     "data": {
      "text/plain": [
       "4883"
      ]
     },
     "execution_count": 39,
     "metadata": {},
     "output_type": "execute_result"
    }
   ],
   "source": [
    "flights.filter(flights.distance >1000).count()"
   ]
  },
  {
   "cell_type": "markdown",
   "id": "a46c9b3b",
   "metadata": {},
   "source": [
    "### How many trips has air_time greater than 100 and less than 300"
   ]
  },
  {
   "cell_type": "code",
   "execution_count": 42,
   "id": "4f873696",
   "metadata": {},
   "outputs": [
    {
     "data": {
      "text/plain": [
       "7171"
      ]
     },
     "execution_count": 42,
     "metadata": {},
     "output_type": "execute_result"
    }
   ],
   "source": [
    "cond= (flights.air_time >100) & (flights.air_time <300)\n",
    "\n",
    "flights.filter(cond).count()"
   ]
  },
  {
   "cell_type": "code",
   "execution_count": 43,
   "id": "5ad57a20",
   "metadata": {},
   "outputs": [
    {
     "name": "stdout",
     "output_type": "stream",
     "text": [
      "+----+-----+---+--------+---------+--------+---------+-------+-------+------+------+----+--------+--------+----+------+\n",
      "|year|month|day|dep_time|dep_delay|arr_time|arr_delay|carrier|tailnum|flight|origin|dest|air_time|distance|hour|minute|\n",
      "+----+-----+---+--------+---------+--------+---------+-------+-------+------+------+----+--------+--------+----+------+\n",
      "|2014|   12|  8|   658.0|     -7.0|   935.0|     -5.0|     VX| N846VA|  1780|   SEA| LAX|   132.0|     954| 6.0|  58.0|\n",
      "|2014|    3|  9|  1443.0|     -2.0|  1652.0|      2.0|     VX| N847VA|   755|   SEA| SFO|   111.0|     679|14.0|  43.0|\n",
      "|2014|    3|  9|   754.0|     -1.0|  1015.0|      1.0|     AS| N612AS|   522|   SEA| BUR|   127.0|     937| 7.0|  54.0|\n",
      "|2014|    1| 15|  1037.0|      7.0|  1352.0|      2.0|     WN| N646SW|    48|   PDX| DEN|   121.0|     991|10.0|  37.0|\n",
      "|2014|    4| 19|  1236.0|     -4.0|  1508.0|     -7.0|     AS| N309AS|   490|   SEA| SAN|   135.0|    1050|12.0|  36.0|\n",
      "|2014|   11| 19|  1812.0|     -3.0|  2352.0|     -4.0|     AS| N564AS|    26|   SEA| ORD|   198.0|    1721|18.0|  12.0|\n",
      "|2014|   11|  8|  1653.0|     -2.0|  1924.0|     -1.0|     AS| N323AS|   448|   SEA| LAX|   130.0|     954|16.0|  53.0|\n",
      "|2014|    8|  3|  1120.0|      0.0|  1415.0|      2.0|     AS| N305AS|   656|   SEA| PHX|   154.0|    1107|11.0|  20.0|\n",
      "|2014|   10| 30|   811.0|     21.0|  1038.0|     29.0|     AS| N433AS|   608|   SEA| LAS|   127.0|     867| 8.0|  11.0|\n",
      "|2014|   11| 12|  2346.0|     -4.0|   217.0|    -28.0|     AS| N765AS|   121|   SEA| ANC|   183.0|    1448|23.0|  46.0|\n",
      "|2014|   10| 31|  1314.0|     89.0|  1544.0|    111.0|     AS| N713AS|   306|   SEA| SFO|   129.0|     679|13.0|  14.0|\n",
      "|2014|    8| 11|  1017.0|     -3.0|  1613.0|     -7.0|     WN| N8634A|   827|   SEA| MDW|   216.0|    1733|10.0|  17.0|\n",
      "|2014|    1| 13|  2156.0|     -9.0|   607.0|    -15.0|     AS| N597AS|    24|   SEA| BOS|   290.0|    2496|21.0|  56.0|\n",
      "|2014|    6|  5|  1733.0|    -12.0|  1945.0|    -10.0|     OO| N215AG|  3488|   PDX| BUR|   111.0|     817|17.0|  33.0|\n",
      "|2014|    7| 27|  2105.0|     15.0|  2316.0|     21.0|     AS| N519AS|   300|   SEA| SFO|   106.0|     679|21.0|   5.0|\n",
      "|2014|    9| 26|   610.0|     -5.0|  1523.0|     65.0|     US| N127UW|   616|   SEA| PHL|   293.0|    2378| 6.0|  10.0|\n",
      "|2014|    8| 19|  1845.0|     -5.0|  2112.0|    -22.0|     DL| N354NW|  2642|   SEA| LAX|   119.0|     954|18.0|  45.0|\n",
      "|2014|   10| 29|   643.0|      3.0|   851.0|      2.0|     OO| N218AG|  3456|   PDX| BUR|   108.0|     817| 6.0|  43.0|\n",
      "|2014|   12| 30|  1305.0|     70.0|  1525.0|     86.0|     AS| N520AS|   306|   SEA| SFO|   117.0|     679|13.0|   5.0|\n",
      "|2014|    2| 25|   555.0|     -5.0|   819.0|     -3.0|     AS| N549AS|   604|   SEA| LAS|   121.0|     867| 5.0|  55.0|\n",
      "+----+-----+---+--------+---------+--------+---------+-------+-------+------+------+----+--------+--------+----+------+\n",
      "only showing top 20 rows\n",
      "\n"
     ]
    }
   ],
   "source": [
    "flights.filter(cond).show()"
   ]
  },
  {
   "cell_type": "code",
   "execution_count": 45,
   "id": "fb00da43",
   "metadata": {},
   "outputs": [
    {
     "name": "stdout",
     "output_type": "stream",
     "text": [
      "+-------+--------+\n",
      "|summary|air_time|\n",
      "+-------+--------+\n",
      "|    max|   299.0|\n",
      "|    min|   101.0|\n",
      "+-------+--------+\n",
      "\n"
     ]
    }
   ],
   "source": [
    "flights.filter(cond).select('air_time').summary('max','min').show()"
   ]
  },
  {
   "cell_type": "code",
   "execution_count": null,
   "id": "8e599780",
   "metadata": {},
   "outputs": [],
   "source": []
  }
 ],
 "metadata": {
  "kernelspec": {
   "display_name": "Python 3",
   "language": "python",
   "name": "python3"
  },
  "language_info": {
   "codemirror_mode": {
    "name": "ipython",
    "version": 3
   },
   "file_extension": ".py",
   "mimetype": "text/x-python",
   "name": "python",
   "nbconvert_exporter": "python",
   "pygments_lexer": "ipython3",
   "version": "3.8.8"
  }
 },
 "nbformat": 4,
 "nbformat_minor": 5
}
