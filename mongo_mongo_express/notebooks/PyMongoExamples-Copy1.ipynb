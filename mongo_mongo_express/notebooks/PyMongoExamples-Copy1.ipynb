{
 "cells": [
  {
   "cell_type": "markdown",
   "id": "connected-powder",
   "metadata": {},
   "source": [
    "## Install Packages"
   ]
  },
  {
   "cell_type": "code",
   "execution_count": 1,
   "id": "dressed-lambda",
   "metadata": {},
   "outputs": [
    {
     "name": "stdout",
     "output_type": "stream",
     "text": [
      "Collecting pymongo\n",
      "  Downloading pymongo-3.11.3-cp38-cp38-manylinux2014_x86_64.whl (531 kB)\n",
      "\u001b[K     |████████████████████████████████| 531 kB 4.4 MB/s eta 0:00:01\n",
      "\u001b[?25hInstalling collected packages: pymongo\n",
      "Successfully installed pymongo-3.11.3\n"
     ]
    }
   ],
   "source": [
    "try:\n",
    "    import pymongo\n",
    "except:\n",
    "    !pip install pymongo\n"
   ]
  },
  {
   "cell_type": "markdown",
   "id": "adult-surprise",
   "metadata": {},
   "source": [
    "## Conncet to MongoDB"
   ]
  },
  {
   "cell_type": "code",
   "execution_count": 7,
   "id": "naval-generic",
   "metadata": {},
   "outputs": [
    {
     "ename": "ConfigurationError",
     "evalue": "The \"dnspython\" module must be installed to use mongodb+srv:// URIs",
     "output_type": "error",
     "traceback": [
      "\u001b[1;31m---------------------------------------------------------------------------\u001b[0m",
      "\u001b[1;31mConfigurationError\u001b[0m                        Traceback (most recent call last)",
      "\u001b[1;32m<ipython-input-7-5d7877b3d2cc>\u001b[0m in \u001b[0;36m<module>\u001b[1;34m\u001b[0m\n\u001b[0;32m      1\u001b[0m \u001b[1;32mfrom\u001b[0m \u001b[0mpymongo\u001b[0m \u001b[1;32mimport\u001b[0m \u001b[0mMongoClient\u001b[0m\u001b[1;33m\u001b[0m\u001b[1;33m\u001b[0m\u001b[0m\n\u001b[1;32m----> 2\u001b[1;33m client = MongoClient('mongodb+srv://ip172-18-0-110-c1rtrmoh550g008g4smg-27017.direct.labs.play-with-docker.com', \n\u001b[0m\u001b[0;32m      3\u001b[0m                         \u001b[0musername\u001b[0m\u001b[1;33m=\u001b[0m\u001b[1;34m'root'\u001b[0m\u001b[1;33m,\u001b[0m\u001b[1;33m\u001b[0m\u001b[1;33m\u001b[0m\u001b[0m\n\u001b[0;32m      4\u001b[0m                          password='example')\n",
      "\u001b[1;32mD:\\Anaconda\\lib\\site-packages\\pymongo\\mongo_client.py\u001b[0m in \u001b[0;36m__init__\u001b[1;34m(self, host, port, document_class, tz_aware, connect, type_registry, **kwargs)\u001b[0m\n\u001b[0;32m    637\u001b[0m                     timeout = common.validate_timeout_or_none_or_zero(\n\u001b[0;32m    638\u001b[0m                         keyword_opts.cased_key(\"connecttimeoutms\"), timeout)\n\u001b[1;32m--> 639\u001b[1;33m                 res = uri_parser.parse_uri(\n\u001b[0m\u001b[0;32m    640\u001b[0m                     \u001b[0mentity\u001b[0m\u001b[1;33m,\u001b[0m \u001b[0mport\u001b[0m\u001b[1;33m,\u001b[0m \u001b[0mvalidate\u001b[0m\u001b[1;33m=\u001b[0m\u001b[1;32mTrue\u001b[0m\u001b[1;33m,\u001b[0m \u001b[0mwarn\u001b[0m\u001b[1;33m=\u001b[0m\u001b[1;32mTrue\u001b[0m\u001b[1;33m,\u001b[0m \u001b[0mnormalize\u001b[0m\u001b[1;33m=\u001b[0m\u001b[1;32mFalse\u001b[0m\u001b[1;33m,\u001b[0m\u001b[1;33m\u001b[0m\u001b[1;33m\u001b[0m\u001b[0m\n\u001b[0;32m    641\u001b[0m                     connect_timeout=timeout)\n",
      "\u001b[1;32mD:\\Anaconda\\lib\\site-packages\\pymongo\\uri_parser.py\u001b[0m in \u001b[0;36mparse_uri\u001b[1;34m(uri, default_port, validate, warn, normalize, connect_timeout)\u001b[0m\n\u001b[0;32m    426\u001b[0m     \u001b[1;32melif\u001b[0m \u001b[0muri\u001b[0m\u001b[1;33m.\u001b[0m\u001b[0mstartswith\u001b[0m\u001b[1;33m(\u001b[0m\u001b[0mSRV_SCHEME\u001b[0m\u001b[1;33m)\u001b[0m\u001b[1;33m:\u001b[0m\u001b[1;33m\u001b[0m\u001b[1;33m\u001b[0m\u001b[0m\n\u001b[0;32m    427\u001b[0m         \u001b[1;32mif\u001b[0m \u001b[1;32mnot\u001b[0m \u001b[0m_HAVE_DNSPYTHON\u001b[0m\u001b[1;33m:\u001b[0m\u001b[1;33m\u001b[0m\u001b[1;33m\u001b[0m\u001b[0m\n\u001b[1;32m--> 428\u001b[1;33m             raise ConfigurationError('The \"dnspython\" module must be '\n\u001b[0m\u001b[0;32m    429\u001b[0m                                      'installed to use mongodb+srv:// URIs')\n\u001b[0;32m    430\u001b[0m         \u001b[0mis_srv\u001b[0m \u001b[1;33m=\u001b[0m \u001b[1;32mTrue\u001b[0m\u001b[1;33m\u001b[0m\u001b[1;33m\u001b[0m\u001b[0m\n",
      "\u001b[1;31mConfigurationError\u001b[0m: The \"dnspython\" module must be installed to use mongodb+srv:// URIs"
     ]
    }
   ],
   "source": [
    "from pymongo import MongoClient\n",
    "client = MongoClient('mongodb+srv://ip172-18-0-110-c1rtrmoh550g008g4smg-27017.direct.labs.play-with-docker.com', \n",
    "                        username='root',\n",
    "                         password='example')"
   ]
  },
  {
   "cell_type": "code",
   "execution_count": 8,
   "id": "unlimited-nevada",
   "metadata": {},
   "outputs": [
    {
     "ename": "NameError",
     "evalue": "name 'client' is not defined",
     "output_type": "error",
     "traceback": [
      "\u001b[1;31m---------------------------------------------------------------------------\u001b[0m",
      "\u001b[1;31mNameError\u001b[0m                                 Traceback (most recent call last)",
      "\u001b[1;32m<ipython-input-8-fc33b63bd093>\u001b[0m in \u001b[0;36m<module>\u001b[1;34m\u001b[0m\n\u001b[1;32m----> 1\u001b[1;33m \u001b[0mdir\u001b[0m\u001b[1;33m(\u001b[0m\u001b[0mclient\u001b[0m\u001b[1;33m)\u001b[0m\u001b[1;33m\u001b[0m\u001b[1;33m\u001b[0m\u001b[0m\n\u001b[0m",
      "\u001b[1;31mNameError\u001b[0m: name 'client' is not defined"
     ]
    }
   ],
   "source": [
    "dir(client)"
   ]
  },
  {
   "cell_type": "markdown",
   "id": "duplicate-prime",
   "metadata": {},
   "source": [
    "## list of all databases"
   ]
  },
  {
   "cell_type": "code",
   "execution_count": 19,
   "id": "tutorial-entertainment",
   "metadata": {},
   "outputs": [
    {
     "name": "stdout",
     "output_type": "stream",
     "text": [
      "{'name': 'admin', 'sizeOnDisk': 172032.0, 'empty': False}\n",
      "{'name': 'config', 'sizeOnDisk': 110592.0, 'empty': False}\n",
      "{'name': 'local', 'sizeOnDisk': 73728.0, 'empty': False}\n",
      "{'name': 'mydb', 'sizeOnDisk': 73728.0, 'empty': False}\n"
     ]
    }
   ],
   "source": [
    "for db in client.list_databases():\n",
    "    print(db)"
   ]
  },
  {
   "cell_type": "code",
   "execution_count": 21,
   "id": "applicable-grass",
   "metadata": {},
   "outputs": [
    {
     "name": "stdout",
     "output_type": "stream",
     "text": [
      "admin\n",
      "config\n",
      "local\n",
      "mydb\n"
     ]
    }
   ],
   "source": [
    "for db in client.list_database_names():\n",
    "    print(db)"
   ]
  },
  {
   "cell_type": "code",
   "execution_count": null,
   "id": "nasty-dayton",
   "metadata": {},
   "outputs": [],
   "source": []
  },
  {
   "cell_type": "code",
   "execution_count": 27,
   "id": "chronic-birmingham",
   "metadata": {},
   "outputs": [],
   "source": [
    "## Create DataBase"
   ]
  },
  {
   "cell_type": "code",
   "execution_count": 28,
   "id": "swiss-cinema",
   "metadata": {},
   "outputs": [],
   "source": [
    "db = client['mydb']\n"
   ]
  },
  {
   "cell_type": "code",
   "execution_count": 29,
   "id": "destroyed-blink",
   "metadata": {},
   "outputs": [],
   "source": [
    "## Document Example"
   ]
  },
  {
   "cell_type": "code",
   "execution_count": 30,
   "id": "cooked-secondary",
   "metadata": {},
   "outputs": [],
   "source": [
    " article = {\"author\": \"Derrick Mwiti\",\n",
    "            \"about\": \"Introduction to MongoDB and Python\",\n",
    "            \"tags\":\n",
    "                [\"mongodb\", \"python\", \"pymongo\"]}"
   ]
  },
  {
   "cell_type": "markdown",
   "id": "blocked-number",
   "metadata": {},
   "source": [
    "## Create Collection "
   ]
  },
  {
   "cell_type": "code",
   "execution_count": 32,
   "id": "continuing-roman",
   "metadata": {},
   "outputs": [],
   "source": [
    "articles = db.articles\n"
   ]
  },
  {
   "cell_type": "markdown",
   "id": "compact-deployment",
   "metadata": {},
   "source": [
    "# Push documents to collection  "
   ]
  },
  {
   "cell_type": "code",
   "execution_count": 34,
   "id": "included-maintenance",
   "metadata": {},
   "outputs": [],
   "source": [
    "result = articles.insert_one(article)"
   ]
  },
  {
   "cell_type": "markdown",
   "id": "collective-audit",
   "metadata": {},
   "source": [
    "## Return all the documents in a collection in mongodb"
   ]
  },
  {
   "cell_type": "code",
   "execution_count": 35,
   "id": "rough-batman",
   "metadata": {},
   "outputs": [
    {
     "name": "stdout",
     "output_type": "stream",
     "text": [
      "{'_id': ObjectId('6074615b8ffa3a6e7c001fc6'), 'author': 'Derrick Mwiti', 'about': 'Introduction to MongoDB and Python', 'tags': ['mongodb', 'python', 'pymongo']}\n",
      "{'_id': ObjectId('6074641f8ffa3a6e7c001fc8'), 'author': 'Derrick Mwiti', 'about': 'Introduction to MongoDB and Python', 'tags': ['mongodb', 'python', 'pymon55go']}\n",
      "{'_id': ObjectId('607466048ffa3a6e7c001fca'), 'author': 'Derrick Mwiti', 'about': 'Introduction to MongoDB and Python', 'tags': ['mongodb', 'python', 'pymon55go']}\n",
      "{'_id': ObjectId('60746c48e964fb5ab58780d4'), 'author': 'Derrick Mwiti', 'about': 'Introduction to MongoDB and Python', 'tags': ['mongodb', 'python', 'pymongo']}\n",
      "{'_id': ObjectId('60746e6be964fb5ab58780d6'), 'author': 'Derrick Mwiti', 'about': 'Introduction to MongoDB and Python', 'tags': ['mongodb', 'python', 'pymongo']}\n"
     ]
    }
   ],
   "source": [
    "cursor = articles.find({})\n",
    "for document in cursor:\n",
    "    print(document)"
   ]
  },
  {
   "cell_type": "markdown",
   "id": "committed-forwarding",
   "metadata": {},
   "source": [
    "## More examples "
   ]
  },
  {
   "cell_type": "markdown",
   "id": "native-manner",
   "metadata": {},
   "source": [
    "https://pythonexamples.org/python-mongodb-delete-database/"
   ]
  },
  {
   "cell_type": "code",
   "execution_count": null,
   "id": "renewable-draft",
   "metadata": {},
   "outputs": [],
   "source": []
  }
 ],
 "metadata": {
  "kernelspec": {
   "display_name": "Python 3",
   "language": "python",
   "name": "python3"
  },
  "language_info": {
   "codemirror_mode": {
    "name": "ipython",
    "version": 3
   },
   "file_extension": ".py",
   "mimetype": "text/x-python",
   "name": "python",
   "nbconvert_exporter": "python",
   "pygments_lexer": "ipython3",
   "version": "3.8.8"
  }
 },
 "nbformat": 4,
 "nbformat_minor": 5
}
