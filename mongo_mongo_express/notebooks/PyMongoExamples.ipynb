{
 "cells": [
  {
   "cell_type": "markdown",
   "metadata": {},
   "source": [
    "## Install Packages"
   ]
  },
  {
   "cell_type": "code",
   "execution_count": 1,
   "metadata": {},
   "outputs": [],
   "source": [
    "try:\n",
    "    import pymongo\n",
    "except:\n",
    "    !pip install pymongo\n"
   ]
  },
  {
   "cell_type": "markdown",
   "metadata": {},
   "source": [
    "## Conncet to MongoDB"
   ]
  },
  {
   "cell_type": "code",
   "execution_count": 2,
   "metadata": {},
   "outputs": [],
   "source": [
    "from pymongo import MongoClient\n",
    "client = MongoClient('localhost:27017', \n",
    "                        username='root',\n",
    "                         password='example')"
   ]
  },
  {
   "cell_type": "code",
   "execution_count": 3,
   "metadata": {},
   "outputs": [
    {
     "data": {
      "text/plain": [
       "['HOST',\n",
       " 'PORT',\n",
       " '_BaseObject__codec_options',\n",
       " '_BaseObject__read_concern',\n",
       " '_BaseObject__read_preference',\n",
       " '_BaseObject__write_concern',\n",
       " '_MongoClient__all_credentials',\n",
       " '_MongoClient__cursor_manager',\n",
       " '_MongoClient__default_database_name',\n",
       " '_MongoClient__index_cache',\n",
       " '_MongoClient__index_cache_lock',\n",
       " '_MongoClient__kill_cursors_queue',\n",
       " '_MongoClient__lock',\n",
       " '_MongoClient__options',\n",
       " '_MongoClient__start_session',\n",
       " '__class__',\n",
       " '__delattr__',\n",
       " '__dict__',\n",
       " '__dir__',\n",
       " '__doc__',\n",
       " '__enter__',\n",
       " '__eq__',\n",
       " '__exit__',\n",
       " '__format__',\n",
       " '__ge__',\n",
       " '__getattr__',\n",
       " '__getattribute__',\n",
       " '__getitem__',\n",
       " '__gt__',\n",
       " '__hash__',\n",
       " '__init__',\n",
       " '__init_subclass__',\n",
       " '__iter__',\n",
       " '__le__',\n",
       " '__lt__',\n",
       " '__module__',\n",
       " '__ne__',\n",
       " '__new__',\n",
       " '__next__',\n",
       " '__reduce__',\n",
       " '__reduce_ex__',\n",
       " '__repr__',\n",
       " '__setattr__',\n",
       " '__sizeof__',\n",
       " '__str__',\n",
       " '__subclasshook__',\n",
       " '__weakref__',\n",
       " '_cache_credentials',\n",
       " '_cache_index',\n",
       " '_cached',\n",
       " '_close_cursor',\n",
       " '_close_cursor_now',\n",
       " '_constructor_args',\n",
       " '_database_default_options',\n",
       " '_encrypter',\n",
       " '_end_sessions',\n",
       " '_ensure_session',\n",
       " '_event_listeners',\n",
       " '_get_server_session',\n",
       " '_get_socket',\n",
       " '_get_topology',\n",
       " '_handle_getlasterror',\n",
       " '_is_writable',\n",
       " '_kill_cursors',\n",
       " '_kill_cursors_executor',\n",
       " '_process_kill_cursors',\n",
       " '_process_periodic_tasks',\n",
       " '_process_response',\n",
       " '_purge_credentials',\n",
       " '_purge_index',\n",
       " '_read_preference_for',\n",
       " '_repr_helper',\n",
       " '_retry_internal',\n",
       " '_retry_with_session',\n",
       " '_retryable_read',\n",
       " '_retryable_write',\n",
       " '_return_server_session',\n",
       " '_run_operation_with_response',\n",
       " '_select_server',\n",
       " '_send_cluster_time',\n",
       " '_server_property',\n",
       " '_slaveok_for_server',\n",
       " '_socket_for_reads',\n",
       " '_socket_for_writes',\n",
       " '_tmp_session',\n",
       " '_topology',\n",
       " '_topology_settings',\n",
       " '_write_concern_for',\n",
       " 'address',\n",
       " 'arbiters',\n",
       " 'close',\n",
       " 'close_cursor',\n",
       " 'codec_options',\n",
       " 'database_names',\n",
       " 'drop_database',\n",
       " 'event_listeners',\n",
       " 'fsync',\n",
       " 'get_database',\n",
       " 'get_default_database',\n",
       " 'is_locked',\n",
       " 'is_mongos',\n",
       " 'is_primary',\n",
       " 'kill_cursors',\n",
       " 'list_database_names',\n",
       " 'list_databases',\n",
       " 'local_threshold_ms',\n",
       " 'max_bson_size',\n",
       " 'max_idle_time_ms',\n",
       " 'max_message_size',\n",
       " 'max_pool_size',\n",
       " 'max_write_batch_size',\n",
       " 'min_pool_size',\n",
       " 'next',\n",
       " 'nodes',\n",
       " 'primary',\n",
       " 'read_concern',\n",
       " 'read_preference',\n",
       " 'retry_reads',\n",
       " 'retry_writes',\n",
       " 'secondaries',\n",
       " 'server_info',\n",
       " 'server_selection_timeout',\n",
       " 'set_cursor_manager',\n",
       " 'start_session',\n",
       " 'unlock',\n",
       " 'watch',\n",
       " 'write_concern']"
      ]
     },
     "execution_count": 3,
     "metadata": {},
     "output_type": "execute_result"
    }
   ],
   "source": [
    "dir(client)"
   ]
  },
  {
   "cell_type": "markdown",
   "metadata": {},
   "source": [
    "## list of all databases"
   ]
  },
  {
   "cell_type": "code",
   "execution_count": 4,
   "metadata": {},
   "outputs": [
    {
     "name": "stdout",
     "output_type": "stream",
     "text": [
      "{'name': 'Ahmad', 'sizeOnDisk': 49152.0, 'empty': False}\n",
      "{'name': 'admin', 'sizeOnDisk': 172032.0, 'empty': False}\n",
      "{'name': 'config', 'sizeOnDisk': 49152.0, 'empty': False}\n",
      "{'name': 'local', 'sizeOnDisk': 73728.0, 'empty': False}\n",
      "{'name': 'mydb', 'sizeOnDisk': 65536.0, 'empty': False}\n"
     ]
    }
   ],
   "source": [
    "for db in client.list_databases():\n",
    "    print(db)"
   ]
  },
  {
   "cell_type": "code",
   "execution_count": 5,
   "metadata": {},
   "outputs": [
    {
     "name": "stdout",
     "output_type": "stream",
     "text": [
      "Ahmad\n",
      "admin\n",
      "config\n",
      "local\n",
      "mydb\n"
     ]
    }
   ],
   "source": [
    "for db in client.list_database_names():\n",
    "    print(db)"
   ]
  },
  {
   "cell_type": "code",
   "execution_count": null,
   "metadata": {},
   "outputs": [],
   "source": []
  },
  {
   "cell_type": "code",
   "execution_count": 27,
   "metadata": {},
   "outputs": [],
   "source": [
    "## Create DataBase"
   ]
  },
  {
   "cell_type": "code",
   "execution_count": 6,
   "metadata": {},
   "outputs": [],
   "source": [
    "db = client['sarah']\n"
   ]
  },
  {
   "cell_type": "code",
   "execution_count": 29,
   "metadata": {},
   "outputs": [],
   "source": [
    "## Document Example"
   ]
  },
  {
   "cell_type": "code",
   "execution_count": 17,
   "metadata": {},
   "outputs": [],
   "source": [
    " article = {\"author\": \"Salem\",\n",
    "            \"about\": \"Introduction to MongoDB and Python\",\n",
    "            \"tags\":\n",
    "                [\"mongodb\", \"python\", \"pymongo00\"]}"
   ]
  },
  {
   "cell_type": "markdown",
   "metadata": {},
   "source": [
    "## Create Collection "
   ]
  },
  {
   "cell_type": "code",
   "execution_count": 18,
   "metadata": {},
   "outputs": [],
   "source": [
    "articles = db.articles\n"
   ]
  },
  {
   "cell_type": "markdown",
   "metadata": {},
   "source": [
    "# Push documents to collection  "
   ]
  },
  {
   "cell_type": "code",
   "execution_count": 19,
   "metadata": {},
   "outputs": [],
   "source": [
    "result = articles.insert_one(article)"
   ]
  },
  {
   "cell_type": "markdown",
   "metadata": {},
   "source": [
    "## Return all the documents in a collection in mongodb"
   ]
  },
  {
   "cell_type": "code",
   "execution_count": 21,
   "metadata": {},
   "outputs": [
    {
     "name": "stdout",
     "output_type": "stream",
     "text": [
      "{'_id': ObjectId('60786024d986615625fda8e7'), 'author': 'Salem', 'about': 'Introduction to MongoDB and Python', 'tags': ['mongodb', 'python', 'pymongo00']}\n"
     ]
    }
   ],
   "source": [
    "cursor = articles.find({'author': 'Salem'})\n",
    "for document in cursor:\n",
    "    print(document)"
   ]
  },
  {
   "cell_type": "markdown",
   "metadata": {},
   "source": [
    "## More examples "
   ]
  },
  {
   "cell_type": "markdown",
   "metadata": {},
   "source": [
    "https://pythonexamples.org/python-mongodb-delete-database/"
   ]
  },
  {
   "cell_type": "code",
   "execution_count": null,
   "metadata": {},
   "outputs": [],
   "source": []
  }
 ],
 "metadata": {
  "kernelspec": {
   "display_name": "Python 3",
   "language": "python",
   "name": "python3"
  },
  "language_info": {
   "codemirror_mode": {
    "name": "ipython",
    "version": 3
   },
   "file_extension": ".py",
   "mimetype": "text/x-python",
   "name": "python",
   "nbconvert_exporter": "python",
   "pygments_lexer": "ipython3",
   "version": "3.8.5"
  }
 },
 "nbformat": 4,
 "nbformat_minor": 5
}
